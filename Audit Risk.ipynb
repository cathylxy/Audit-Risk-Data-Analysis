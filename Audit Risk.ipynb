{
 "cells": [
  {
   "cell_type": "markdown",
   "metadata": {},
   "source": [
    "# Audit Data Analysis\n",
    "\n",
    "### Group 16 Project (Section 005)"
   ]
  },
  {
   "cell_type": "markdown",
   "metadata": {},
   "source": [
    "## Introduction\n",
    "\n",
    "### Background Information\n",
    "\n",
    "Audit is the process of examining the financial records of any business to corroborate that their financial statements are in compliance with the standard accounting laws and principles. \n",
    "Auditors are responsible for locating fraudulent activity within businesses. Firms that commit fraud can cause greater issues within the economy and should be subject to legal action. Detecting fraud is done by auditing the financial statements of businesses, but this can be very difficult on a large scale. Data analysis can be used to consider a large scale of information and identify common fraudulent activities to make this work more effective. \n",
    "\n",
    "### Predictive Question\n",
    "This study aims to predict whether a business will be fraudulant based on the given risk factors. In this data analysis, we will analyze two risk factors - Money Value and Total Discrepancy.\n",
    "\n",
    "Risk factors: Money Value, Total Discrepancy\n",
    "\n",
    "### Data Set\n",
    "We will be using the Audit Data set. This data set contains predictors for identifying possible fraudulent firms from the Auditor Office of India and was collected between 2015 and 2016. The dataset builds a classification model to predict a fraudulent firm on the basis of present and historical risk factors.\n",
    "\n",
    "`Audit Risk` - Audit risk is the product of measured values inherent risk(IR), control risk(CR), and detection risk(DR). \n",
    "1. `Inherent Risk Factors`(IR): the risk present due to the discrepancies present in the transactions. \n",
    "\n",
    "   *Risk Factors in IR*\n",
    "    - `Para A value`: Discrepancy found in the planned-expenditure of inspection and summary report A in Rs (in crore).\n",
    "    - `Para B value`: Discrepancy found in the unplanned-expenditure of inspection and summary report B in Rs (in crore).\n",
    "    - `Total`: Total amount of discrepancy found in other reports Rs (in crore).\n",
    "    - `Number`: Historical discrepancy score.\n",
    "    - `Money value`: Amount of money involved in misstatements in the past audits.\n",
    "\n",
    "2. `Control Risk Factors`(CR): the risk due to the discrepancies which are left undetected by an internal control system.\n",
    "   \n",
    "   *Risk Factors in CR*\n",
    "    - `Sector score`: Historical risk score value of the target-unit using analytical procedure.\n",
    "    - `Loss`: Amount of loss suffered by the firm last year.\n",
    "    - `History`: Average historical loss suffered by firm in the last 10 years.\n",
    "    - `District score`: Historical risk score of a district in the last 10 years.\n",
    "\n",
    "3. `Detection Risk Factor` (DR): the risk of discrepancies present in the firm which are not even detected by the audit procedures. \n",
    "\n",
    "Relevant columns we will be using in the dataset:\n",
    "\n",
    "- `Risk` - Risk Class assigned to an audit-case. \n",
    "- `Audit Risk` - Total risk score using analytical procedure\n",
    "- `Money Value` - Amount of money involved in misstatements in the past audits.\n",
    "\n",
    "\n",
    "## Methods\n",
    "\n",
    "All the methods are described above each cell of the classification. \n",
    "\n",
    "The model is built using the following variables. \n",
    "\n",
    "Class Variable:\n",
    "\n",
    "`Risk` - Calculated from the average of the audit risk and classified as high fraud class(1) or low fraud class(0). If the audit risk average was found to be 1, it is labelled No Fraud(0), otherwise it was labelled Fraud(1).\n",
    "\n",
    "\n",
    "Predictor Variables:\n",
    "\n",
    "`Money Value` - Amount of money involved in misstatements found in past audits.\n",
    "\n",
    "`Total`: Total amount of discrepancy found in other reports Rs (in crore).\n",
    "\n",
    "\n"
   ]
  },
  {
   "cell_type": "markdown",
   "metadata": {},
   "source": [
    "## Reference\n",
    "\n",
    "Audit Data Data Set: https://archive.ics.uci.edu/ml/datasets/Audit+Data#\n",
    "\n",
    "Fraudulent Firm Classification: A Case Study of an External Audit: https://www.tandfonline.com/doi/full/10.1080/08839514.2018.1451032"
   ]
  },
  {
   "cell_type": "code",
   "execution_count": 2,
   "metadata": {},
   "outputs": [
    {
     "name": "stderr",
     "output_type": "stream",
     "text": [
      "── \u001b[1mAttaching packages\u001b[22m ─────────────────────────────────────── tidyverse 1.3.0 ──\n",
      "\n",
      "\u001b[32m✔\u001b[39m \u001b[34mggplot2\u001b[39m 3.3.2     \u001b[32m✔\u001b[39m \u001b[34mpurrr  \u001b[39m 0.3.4\n",
      "\u001b[32m✔\u001b[39m \u001b[34mtibble \u001b[39m 3.0.3     \u001b[32m✔\u001b[39m \u001b[34mdplyr  \u001b[39m 1.0.2\n",
      "\u001b[32m✔\u001b[39m \u001b[34mtidyr  \u001b[39m 1.1.2     \u001b[32m✔\u001b[39m \u001b[34mstringr\u001b[39m 1.4.0\n",
      "\u001b[32m✔\u001b[39m \u001b[34mreadr  \u001b[39m 1.3.1     \u001b[32m✔\u001b[39m \u001b[34mforcats\u001b[39m 0.5.0\n",
      "\n",
      "Warning message:\n",
      "“package ‘ggplot2’ was built under R version 4.0.1”\n",
      "Warning message:\n",
      "“package ‘tibble’ was built under R version 4.0.2”\n",
      "Warning message:\n",
      "“package ‘tidyr’ was built under R version 4.0.2”\n",
      "Warning message:\n",
      "“package ‘dplyr’ was built under R version 4.0.2”\n",
      "── \u001b[1mConflicts\u001b[22m ────────────────────────────────────────── tidyverse_conflicts() ──\n",
      "\u001b[31m✖\u001b[39m \u001b[34mdplyr\u001b[39m::\u001b[32mfilter()\u001b[39m masks \u001b[34mstats\u001b[39m::filter()\n",
      "\u001b[31m✖\u001b[39m \u001b[34mdplyr\u001b[39m::\u001b[32mlag()\u001b[39m    masks \u001b[34mstats\u001b[39m::lag()\n",
      "\n",
      "Warning message:\n",
      "“package ‘tidymodels’ was built under R version 4.0.2”\n",
      "── \u001b[1mAttaching packages\u001b[22m ────────────────────────────────────── tidymodels 0.1.1 ──\n",
      "\n",
      "\u001b[32m✔\u001b[39m \u001b[34mbroom    \u001b[39m 0.7.0      \u001b[32m✔\u001b[39m \u001b[34mrecipes  \u001b[39m 0.1.13\n",
      "\u001b[32m✔\u001b[39m \u001b[34mdials    \u001b[39m 0.0.9      \u001b[32m✔\u001b[39m \u001b[34mrsample  \u001b[39m 0.0.7 \n",
      "\u001b[32m✔\u001b[39m \u001b[34minfer    \u001b[39m 0.5.4      \u001b[32m✔\u001b[39m \u001b[34mtune     \u001b[39m 0.1.1 \n",
      "\u001b[32m✔\u001b[39m \u001b[34mmodeldata\u001b[39m 0.0.2      \u001b[32m✔\u001b[39m \u001b[34mworkflows\u001b[39m 0.2.0 \n",
      "\u001b[32m✔\u001b[39m \u001b[34mparsnip  \u001b[39m 0.1.3      \u001b[32m✔\u001b[39m \u001b[34myardstick\u001b[39m 0.0.7 \n",
      "\n",
      "Warning message:\n",
      "“package ‘broom’ was built under R version 4.0.2”\n",
      "Warning message:\n",
      "“package ‘dials’ was built under R version 4.0.2”\n",
      "Warning message:\n",
      "“package ‘infer’ was built under R version 4.0.3”\n",
      "Warning message:\n",
      "“package ‘modeldata’ was built under R version 4.0.1”\n",
      "Warning message:\n",
      "“package ‘parsnip’ was built under R version 4.0.2”\n",
      "Warning message:\n",
      "“package ‘recipes’ was built under R version 4.0.1”\n",
      "Warning message:\n",
      "“package ‘tune’ was built under R version 4.0.2”\n",
      "Warning message:\n",
      "“package ‘workflows’ was built under R version 4.0.2”\n",
      "Warning message:\n",
      "“package ‘yardstick’ was built under R version 4.0.2”\n",
      "── \u001b[1mConflicts\u001b[22m ───────────────────────────────────────── tidymodels_conflicts() ──\n",
      "\u001b[31m✖\u001b[39m \u001b[34mscales\u001b[39m::\u001b[32mdiscard()\u001b[39m masks \u001b[34mpurrr\u001b[39m::discard()\n",
      "\u001b[31m✖\u001b[39m \u001b[34mdplyr\u001b[39m::\u001b[32mfilter()\u001b[39m   masks \u001b[34mstats\u001b[39m::filter()\n",
      "\u001b[31m✖\u001b[39m \u001b[34mrecipes\u001b[39m::\u001b[32mfixed()\u001b[39m  masks \u001b[34mstringr\u001b[39m::fixed()\n",
      "\u001b[31m✖\u001b[39m \u001b[34mdplyr\u001b[39m::\u001b[32mlag()\u001b[39m      masks \u001b[34mstats\u001b[39m::lag()\n",
      "\u001b[31m✖\u001b[39m \u001b[34myardstick\u001b[39m::\u001b[32mspec()\u001b[39m masks \u001b[34mreadr\u001b[39m::spec()\n",
      "\u001b[31m✖\u001b[39m \u001b[34mrecipes\u001b[39m::\u001b[32mstep()\u001b[39m   masks \u001b[34mstats\u001b[39m::step()\n",
      "\n"
     ]
    }
   ],
   "source": [
    "#Import packages\n",
    "library(tidyverse)\n",
    "library(repr)\n",
    "library(tidymodels)\n",
    "options(repr.matrix.max.rows = 6)"
   ]
  },
  {
   "cell_type": "markdown",
   "metadata": {},
   "source": [
    "## Read and Load Data Set\n",
    "This dataset is downloaded from Audit Data Data Set (https://archive.ics.uci.edu/ml/datasets/Audit+Data#)\n",
    "and unzipped into a CSV.  "
   ]
  },
  {
   "cell_type": "code",
   "execution_count": 3,
   "metadata": {},
   "outputs": [
    {
     "name": "stderr",
     "output_type": "stream",
     "text": [
      "Warning message:\n",
      "“Duplicated column names deduplicated: 'Score_B' => 'Score_B_1' [11]”\n",
      "Parsed with column specification:\n",
      "cols(\n",
      "  .default = col_double(),\n",
      "  LOCATION_ID = \u001b[31mcol_character()\u001b[39m\n",
      ")\n",
      "\n",
      "See spec(...) for full column specifications.\n",
      "\n"
     ]
    },
    {
     "data": {
      "text/html": [
       "'audit_risk.csv'"
      ],
      "text/latex": [
       "'audit\\_risk.csv'"
      ],
      "text/markdown": [
       "'audit_risk.csv'"
      ],
      "text/plain": [
       "[1] \"audit_risk.csv\""
      ]
     },
     "metadata": {},
     "output_type": "display_data"
    },
    {
     "data": {
      "text/html": [
       "<table>\n",
       "<caption>A spec_tbl_df: 776 × 27</caption>\n",
       "<thead>\n",
       "\t<tr><th scope=col>Sector_score</th><th scope=col>LOCATION_ID</th><th scope=col>PARA_A</th><th scope=col>Score_A</th><th scope=col>Risk_A</th><th scope=col>PARA_B</th><th scope=col>Score_B</th><th scope=col>Risk_B</th><th scope=col>TOTAL</th><th scope=col>numbers</th><th scope=col>⋯</th><th scope=col>RiSk_E</th><th scope=col>History</th><th scope=col>Prob</th><th scope=col>Risk_F</th><th scope=col>Score</th><th scope=col>Inherent_Risk</th><th scope=col>CONTROL_RISK</th><th scope=col>Detection_Risk</th><th scope=col>Audit_Risk</th><th scope=col>Risk</th></tr>\n",
       "\t<tr><th scope=col>&lt;dbl&gt;</th><th scope=col>&lt;chr&gt;</th><th scope=col>&lt;dbl&gt;</th><th scope=col>&lt;dbl&gt;</th><th scope=col>&lt;dbl&gt;</th><th scope=col>&lt;dbl&gt;</th><th scope=col>&lt;dbl&gt;</th><th scope=col>&lt;dbl&gt;</th><th scope=col>&lt;dbl&gt;</th><th scope=col>&lt;dbl&gt;</th><th scope=col>⋯</th><th scope=col>&lt;dbl&gt;</th><th scope=col>&lt;dbl&gt;</th><th scope=col>&lt;dbl&gt;</th><th scope=col>&lt;dbl&gt;</th><th scope=col>&lt;dbl&gt;</th><th scope=col>&lt;dbl&gt;</th><th scope=col>&lt;dbl&gt;</th><th scope=col>&lt;dbl&gt;</th><th scope=col>&lt;dbl&gt;</th><th scope=col>&lt;dbl&gt;</th></tr>\n",
       "</thead>\n",
       "<tbody>\n",
       "\t<tr><td>3.89</td><td>23</td><td>4.18</td><td>0.6</td><td>2.508</td><td>2.50</td><td>0.2</td><td>0.500</td><td>6.68</td><td>5</td><td>⋯</td><td>0.4</td><td>0</td><td>0.2</td><td>0</td><td>2.4</td><td>8.574</td><td>0.4</td><td>0.5</td><td>1.7148</td><td>1</td></tr>\n",
       "\t<tr><td>3.89</td><td>6 </td><td>0.00</td><td>0.2</td><td>0.000</td><td>4.83</td><td>0.2</td><td>0.966</td><td>4.83</td><td>5</td><td>⋯</td><td>0.4</td><td>0</td><td>0.2</td><td>0</td><td>2.0</td><td>2.554</td><td>0.4</td><td>0.5</td><td>0.5108</td><td>0</td></tr>\n",
       "\t<tr><td>3.89</td><td>6 </td><td>0.51</td><td>0.2</td><td>0.102</td><td>0.23</td><td>0.2</td><td>0.046</td><td>0.74</td><td>5</td><td>⋯</td><td>0.4</td><td>0</td><td>0.2</td><td>0</td><td>2.0</td><td>1.548</td><td>0.4</td><td>0.5</td><td>0.3096</td><td>0</td></tr>\n",
       "\t<tr><td>⋮</td><td>⋮</td><td>⋮</td><td>⋮</td><td>⋮</td><td>⋮</td><td>⋮</td><td>⋮</td><td>⋮</td><td>⋮</td><td>⋱</td><td>⋮</td><td>⋮</td><td>⋮</td><td>⋮</td><td>⋮</td><td>⋮</td><td>⋮</td><td>⋮</td><td>⋮</td><td>⋮</td></tr>\n",
       "\t<tr><td>55.57</td><td>14</td><td>0.24</td><td>0.2</td><td>0.048</td><td>0.04</td><td>0.2</td><td>0.008</td><td>0.28</td><td>5</td><td>⋯</td><td>0.4</td><td>0</td><td>0.2</td><td>0</td><td>2</td><td>1.456</td><td>0.4</td><td>0.5</td><td>0.2912</td><td>0</td></tr>\n",
       "\t<tr><td>55.57</td><td>18</td><td>0.20</td><td>0.2</td><td>0.040</td><td>0.00</td><td>0.2</td><td>0.000</td><td>0.20</td><td>5</td><td>⋯</td><td>0.4</td><td>0</td><td>0.2</td><td>0</td><td>2</td><td>1.440</td><td>0.4</td><td>0.5</td><td>0.2880</td><td>0</td></tr>\n",
       "\t<tr><td>55.57</td><td>15</td><td>0.00</td><td>0.2</td><td>0.000</td><td>0.00</td><td>0.2</td><td>0.000</td><td>0.00</td><td>5</td><td>⋯</td><td>0.4</td><td>0</td><td>0.2</td><td>0</td><td>2</td><td>1.464</td><td>0.4</td><td>0.5</td><td>0.2928</td><td>0</td></tr>\n",
       "</tbody>\n",
       "</table>\n"
      ],
      "text/latex": [
       "A spec\\_tbl\\_df: 776 × 27\n",
       "\\begin{tabular}{lllllllllllllllllllll}\n",
       " Sector\\_score & LOCATION\\_ID & PARA\\_A & Score\\_A & Risk\\_A & PARA\\_B & Score\\_B & Risk\\_B & TOTAL & numbers & ⋯ & RiSk\\_E & History & Prob & Risk\\_F & Score & Inherent\\_Risk & CONTROL\\_RISK & Detection\\_Risk & Audit\\_Risk & Risk\\\\\n",
       " <dbl> & <chr> & <dbl> & <dbl> & <dbl> & <dbl> & <dbl> & <dbl> & <dbl> & <dbl> & ⋯ & <dbl> & <dbl> & <dbl> & <dbl> & <dbl> & <dbl> & <dbl> & <dbl> & <dbl> & <dbl>\\\\\n",
       "\\hline\n",
       "\t 3.89 & 23 & 4.18 & 0.6 & 2.508 & 2.50 & 0.2 & 0.500 & 6.68 & 5 & ⋯ & 0.4 & 0 & 0.2 & 0 & 2.4 & 8.574 & 0.4 & 0.5 & 1.7148 & 1\\\\\n",
       "\t 3.89 & 6  & 0.00 & 0.2 & 0.000 & 4.83 & 0.2 & 0.966 & 4.83 & 5 & ⋯ & 0.4 & 0 & 0.2 & 0 & 2.0 & 2.554 & 0.4 & 0.5 & 0.5108 & 0\\\\\n",
       "\t 3.89 & 6  & 0.51 & 0.2 & 0.102 & 0.23 & 0.2 & 0.046 & 0.74 & 5 & ⋯ & 0.4 & 0 & 0.2 & 0 & 2.0 & 1.548 & 0.4 & 0.5 & 0.3096 & 0\\\\\n",
       "\t ⋮ & ⋮ & ⋮ & ⋮ & ⋮ & ⋮ & ⋮ & ⋮ & ⋮ & ⋮ & ⋱ & ⋮ & ⋮ & ⋮ & ⋮ & ⋮ & ⋮ & ⋮ & ⋮ & ⋮ & ⋮\\\\\n",
       "\t 55.57 & 14 & 0.24 & 0.2 & 0.048 & 0.04 & 0.2 & 0.008 & 0.28 & 5 & ⋯ & 0.4 & 0 & 0.2 & 0 & 2 & 1.456 & 0.4 & 0.5 & 0.2912 & 0\\\\\n",
       "\t 55.57 & 18 & 0.20 & 0.2 & 0.040 & 0.00 & 0.2 & 0.000 & 0.20 & 5 & ⋯ & 0.4 & 0 & 0.2 & 0 & 2 & 1.440 & 0.4 & 0.5 & 0.2880 & 0\\\\\n",
       "\t 55.57 & 15 & 0.00 & 0.2 & 0.000 & 0.00 & 0.2 & 0.000 & 0.00 & 5 & ⋯ & 0.4 & 0 & 0.2 & 0 & 2 & 1.464 & 0.4 & 0.5 & 0.2928 & 0\\\\\n",
       "\\end{tabular}\n"
      ],
      "text/markdown": [
       "\n",
       "A spec_tbl_df: 776 × 27\n",
       "\n",
       "| Sector_score &lt;dbl&gt; | LOCATION_ID &lt;chr&gt; | PARA_A &lt;dbl&gt; | Score_A &lt;dbl&gt; | Risk_A &lt;dbl&gt; | PARA_B &lt;dbl&gt; | Score_B &lt;dbl&gt; | Risk_B &lt;dbl&gt; | TOTAL &lt;dbl&gt; | numbers &lt;dbl&gt; | ⋯ ⋯ | RiSk_E &lt;dbl&gt; | History &lt;dbl&gt; | Prob &lt;dbl&gt; | Risk_F &lt;dbl&gt; | Score &lt;dbl&gt; | Inherent_Risk &lt;dbl&gt; | CONTROL_RISK &lt;dbl&gt; | Detection_Risk &lt;dbl&gt; | Audit_Risk &lt;dbl&gt; | Risk &lt;dbl&gt; |\n",
       "|---|---|---|---|---|---|---|---|---|---|---|---|---|---|---|---|---|---|---|---|---|\n",
       "| 3.89 | 23 | 4.18 | 0.6 | 2.508 | 2.50 | 0.2 | 0.500 | 6.68 | 5 | ⋯ | 0.4 | 0 | 0.2 | 0 | 2.4 | 8.574 | 0.4 | 0.5 | 1.7148 | 1 |\n",
       "| 3.89 | 6  | 0.00 | 0.2 | 0.000 | 4.83 | 0.2 | 0.966 | 4.83 | 5 | ⋯ | 0.4 | 0 | 0.2 | 0 | 2.0 | 2.554 | 0.4 | 0.5 | 0.5108 | 0 |\n",
       "| 3.89 | 6  | 0.51 | 0.2 | 0.102 | 0.23 | 0.2 | 0.046 | 0.74 | 5 | ⋯ | 0.4 | 0 | 0.2 | 0 | 2.0 | 1.548 | 0.4 | 0.5 | 0.3096 | 0 |\n",
       "| ⋮ | ⋮ | ⋮ | ⋮ | ⋮ | ⋮ | ⋮ | ⋮ | ⋮ | ⋮ | ⋱ | ⋮ | ⋮ | ⋮ | ⋮ | ⋮ | ⋮ | ⋮ | ⋮ | ⋮ | ⋮ |\n",
       "| 55.57 | 14 | 0.24 | 0.2 | 0.048 | 0.04 | 0.2 | 0.008 | 0.28 | 5 | ⋯ | 0.4 | 0 | 0.2 | 0 | 2 | 1.456 | 0.4 | 0.5 | 0.2912 | 0 |\n",
       "| 55.57 | 18 | 0.20 | 0.2 | 0.040 | 0.00 | 0.2 | 0.000 | 0.20 | 5 | ⋯ | 0.4 | 0 | 0.2 | 0 | 2 | 1.440 | 0.4 | 0.5 | 0.2880 | 0 |\n",
       "| 55.57 | 15 | 0.00 | 0.2 | 0.000 | 0.00 | 0.2 | 0.000 | 0.00 | 5 | ⋯ | 0.4 | 0 | 0.2 | 0 | 2 | 1.464 | 0.4 | 0.5 | 0.2928 | 0 |\n",
       "\n"
      ],
      "text/plain": [
       "    Sector_score LOCATION_ID PARA_A Score_A Risk_A PARA_B Score_B Risk_B TOTAL\n",
       "1   3.89         23          4.18   0.6     2.508  2.50   0.2     0.500  6.68 \n",
       "2   3.89         6           0.00   0.2     0.000  4.83   0.2     0.966  4.83 \n",
       "3   3.89         6           0.51   0.2     0.102  0.23   0.2     0.046  0.74 \n",
       "⋮   ⋮            ⋮           ⋮      ⋮       ⋮      ⋮      ⋮       ⋮      ⋮    \n",
       "774 55.57        14          0.24   0.2     0.048  0.04   0.2     0.008  0.28 \n",
       "775 55.57        18          0.20   0.2     0.040  0.00   0.2     0.000  0.20 \n",
       "776 55.57        15          0.00   0.2     0.000  0.00   0.2     0.000  0.00 \n",
       "    numbers ⋯ RiSk_E History Prob Risk_F Score Inherent_Risk CONTROL_RISK\n",
       "1   5       ⋯ 0.4    0       0.2  0      2.4   8.574         0.4         \n",
       "2   5       ⋯ 0.4    0       0.2  0      2.0   2.554         0.4         \n",
       "3   5       ⋯ 0.4    0       0.2  0      2.0   1.548         0.4         \n",
       "⋮   ⋮       ⋱ ⋮      ⋮       ⋮    ⋮      ⋮     ⋮             ⋮           \n",
       "774 5       ⋯ 0.4    0       0.2  0      2     1.456         0.4         \n",
       "775 5       ⋯ 0.4    0       0.2  0      2     1.440         0.4         \n",
       "776 5       ⋯ 0.4    0       0.2  0      2     1.464         0.4         \n",
       "    Detection_Risk Audit_Risk Risk\n",
       "1   0.5            1.7148     1   \n",
       "2   0.5            0.5108     0   \n",
       "3   0.5            0.3096     0   \n",
       "⋮   ⋮              ⋮          ⋮   \n",
       "774 0.5            0.2912     0   \n",
       "775 0.5            0.2880     0   \n",
       "776 0.5            0.2928     0   "
      ]
     },
     "metadata": {},
     "output_type": "display_data"
    }
   ],
   "source": [
    "url <- \"https://archive.ics.uci.edu/ml/machine-learning-databases/00475/audit_data.zip\" \n",
    "download.file(url, \"audit_data.zip\") \n",
    "unzip(\"audit_data.zip\") \n",
    "audit <- read_csv(\"audit_data/audit_risk.csv\") \n",
    "head(\"audit_risk.csv\") \n",
    "audit"
   ]
  },
  {
   "cell_type": "markdown",
   "metadata": {},
   "source": [
    "Table 1."
   ]
  },
  {
   "cell_type": "markdown",
   "metadata": {},
   "source": [
    "## Cleaning and Wrangling Data"
   ]
  },
  {
   "cell_type": "markdown",
   "metadata": {},
   "source": [
    "We mutate to create a factor out of Risk Class column and preview the data frame with `glimpse`.             "
   ]
  },
  {
   "cell_type": "code",
   "execution_count": 6,
   "metadata": {},
   "outputs": [
    {
     "name": "stdout",
     "output_type": "stream",
     "text": [
      "Rows: 776\n",
      "Columns: 27\n",
      "$ Sector_score   \u001b[3m\u001b[90m<dbl>\u001b[39m\u001b[23m 3.89, 3.89, 3.89, 3.89, 3.89, 3.89, 3.89, 3.89, 3.89, …\n",
      "$ LOCATION_ID    \u001b[3m\u001b[90m<chr>\u001b[39m\u001b[23m \"23\", \"6\", \"6\", \"6\", \"6\", \"6\", \"7\", \"8\", \"8\", \"8\", \"8\"…\n",
      "$ PARA_A         \u001b[3m\u001b[90m<dbl>\u001b[39m\u001b[23m 4.18, 0.00, 0.51, 0.00, 0.00, 0.00, 1.10, 8.50, 8.40, …\n",
      "$ Score_A        \u001b[3m\u001b[90m<dbl>\u001b[39m\u001b[23m 0.6, 0.2, 0.2, 0.2, 0.2, 0.2, 0.4, 0.6, 0.6, 0.6, 0.6,…\n",
      "$ Risk_A         \u001b[3m\u001b[90m<dbl>\u001b[39m\u001b[23m 2.508, 0.000, 0.102, 0.000, 0.000, 0.000, 0.440, 5.100…\n",
      "$ PARA_B         \u001b[3m\u001b[90m<dbl>\u001b[39m\u001b[23m 2.50, 4.83, 0.23, 10.80, 0.08, 0.83, 7.41, 12.03, 11.0…\n",
      "$ Score_B        \u001b[3m\u001b[90m<dbl>\u001b[39m\u001b[23m 0.2, 0.2, 0.2, 0.6, 0.2, 0.2, 0.4, 0.6, 0.6, 0.2, 0.6,…\n",
      "$ Risk_B         \u001b[3m\u001b[90m<dbl>\u001b[39m\u001b[23m 0.500, 0.966, 0.046, 6.480, 0.016, 0.166, 2.964, 7.218…\n",
      "$ TOTAL          \u001b[3m\u001b[90m<dbl>\u001b[39m\u001b[23m 6.68, 4.83, 0.74, 10.80, 0.08, 0.83, 8.51, 20.53, 19.4…\n",
      "$ numbers        \u001b[3m\u001b[90m<dbl>\u001b[39m\u001b[23m 5.0, 5.0, 5.0, 6.0, 5.0, 5.0, 5.0, 5.5, 5.5, 5.0, 5.0,…\n",
      "$ Score_B_1      \u001b[3m\u001b[90m<dbl>\u001b[39m\u001b[23m 0.2, 0.2, 0.2, 0.6, 0.2, 0.2, 0.2, 0.4, 0.4, 0.2, 0.2,…\n",
      "$ Risk_C         \u001b[3m\u001b[90m<dbl>\u001b[39m\u001b[23m 1.0, 1.0, 1.0, 3.6, 1.0, 1.0, 1.0, 2.2, 2.2, 1.0, 1.0,…\n",
      "$ Money_Value    \u001b[3m\u001b[90m<dbl>\u001b[39m\u001b[23m 3.380, 0.940, 0.000, 11.750, 0.000, 2.950, 44.950, 7.7…\n",
      "$ Score_MV       \u001b[3m\u001b[90m<dbl>\u001b[39m\u001b[23m 0.2, 0.2, 0.2, 0.6, 0.2, 0.2, 0.6, 0.4, 0.4, 0.2, 0.2,…\n",
      "$ Risk_D         \u001b[3m\u001b[90m<dbl>\u001b[39m\u001b[23m 0.6760, 0.1880, 0.0000, 7.0500, 0.0000, 0.5900, 26.970…\n",
      "$ District_Loss  \u001b[3m\u001b[90m<dbl>\u001b[39m\u001b[23m 2, 2, 2, 2, 2, 2, 2, 2, 2, 2, 2, 2, 2, 2, 2, 2, 2, 2, …\n",
      "$ PROB           \u001b[3m\u001b[90m<dbl>\u001b[39m\u001b[23m 0.2, 0.2, 0.2, 0.2, 0.2, 0.2, 0.2, 0.2, 0.2, 0.2, 0.2,…\n",
      "$ RiSk_E         \u001b[3m\u001b[90m<dbl>\u001b[39m\u001b[23m 0.4, 0.4, 0.4, 0.4, 0.4, 0.4, 0.4, 0.4, 0.4, 0.4, 0.4,…\n",
      "$ History        \u001b[3m\u001b[90m<dbl>\u001b[39m\u001b[23m 0, 0, 0, 0, 0, 0, 0, 0, 0, 0, 0, 1, 1, 0, 0, 0, 1, 0, …\n",
      "$ Prob           \u001b[3m\u001b[90m<dbl>\u001b[39m\u001b[23m 0.2, 0.2, 0.2, 0.2, 0.2, 0.2, 0.2, 0.2, 0.2, 0.2, 0.2,…\n",
      "$ Risk_F         \u001b[3m\u001b[90m<dbl>\u001b[39m\u001b[23m 0.0, 0.0, 0.0, 0.0, 0.0, 0.0, 0.0, 0.0, 0.0, 0.0, 0.0,…\n",
      "$ Score          \u001b[3m\u001b[90m<dbl>\u001b[39m\u001b[23m 2.4, 2.0, 2.0, 4.4, 2.0, 2.0, 3.2, 4.2, 4.2, 2.4, 3.6,…\n",
      "$ Inherent_Risk  \u001b[3m\u001b[90m<dbl>\u001b[39m\u001b[23m 8.5740, 2.5540, 1.5480, 17.5300, 1.4160, 2.1560, 31.77…\n",
      "$ CONTROL_RISK   \u001b[3m\u001b[90m<dbl>\u001b[39m\u001b[23m 0.4, 0.4, 0.4, 0.4, 0.4, 0.4, 0.4, 0.4, 0.4, 0.4, 0.4,…\n",
      "$ Detection_Risk \u001b[3m\u001b[90m<dbl>\u001b[39m\u001b[23m 0.5, 0.5, 0.5, 0.5, 0.5, 0.5, 0.5, 0.5, 0.5, 0.5, 0.5,…\n",
      "$ Audit_Risk     \u001b[3m\u001b[90m<dbl>\u001b[39m\u001b[23m 1.71480, 0.51080, 0.30960, 3.50600, 0.28320, 0.43120, …\n",
      "$ Risk           \u001b[3m\u001b[90m<fct>\u001b[39m\u001b[23m 1, 0, 0, 1, 0, 0, 1, 1, 1, 0, 1, 1, 1, 0, 0, 1, 1, 1, …\n"
     ]
    },
    {
     "data": {
      "text/html": [
       "<style>\n",
       ".list-inline {list-style: none; margin:0; padding: 0}\n",
       ".list-inline>li {display: inline-block}\n",
       ".list-inline>li:not(:last-child)::after {content: \"\\00b7\"; padding: 0 .5ex}\n",
       "</style>\n",
       "<ol class=list-inline><li>'0'</li><li>'1'</li></ol>\n"
      ],
      "text/latex": [
       "\\begin{enumerate*}\n",
       "\\item '0'\n",
       "\\item '1'\n",
       "\\end{enumerate*}\n"
      ],
      "text/markdown": [
       "1. '0'\n",
       "2. '1'\n",
       "\n",
       "\n"
      ],
      "text/plain": [
       "[1] \"0\" \"1\""
      ]
     },
     "metadata": {},
     "output_type": "display_data"
    }
   ],
   "source": [
    "# Mutate to create a factor out of Risk Class column              \n",
    "audit_mutate <- audit %>%\n",
    "  mutate(Risk = as_factor(Risk))\n",
    "\n",
    "# Preview the data frame\n",
    "glimpse(audit_mutate)  \n",
    "\n",
    "# Show category in Risk Class column\n",
    "audit_mutate %>%\n",
    "  pull(Risk) %>%\n",
    "  levels()"
   ]
  },
  {
   "cell_type": "markdown",
   "metadata": {},
   "source": [
    "## Reasoning to choose Money Value and Total Discrepancy as predictors"
   ]
  },
  {
   "cell_type": "markdown",
   "metadata": {},
   "source": [
    "We want to identify which risk factors has the most impact to determine the audit risk. \n",
    "In order to find the average risk of three major risk factors, we use select to pull out the columns we want, group them by `Risk` class and use `summarize` to calculate their mean. "
   ]
  },
  {
   "cell_type": "code",
   "execution_count": 7,
   "metadata": {},
   "outputs": [
    {
     "name": "stderr",
     "output_type": "stream",
     "text": [
      "`summarise()` ungrouping output (override with `.groups` argument)\n",
      "\n"
     ]
    },
    {
     "data": {
      "text/html": [
       "<table>\n",
       "<caption>A tibble: 2 × 4</caption>\n",
       "<thead>\n",
       "\t<tr><th scope=col>Risk</th><th scope=col>mean_inherent_risk</th><th scope=col>mean_control_risk</th><th scope=col>mean_detection_risk</th></tr>\n",
       "\t<tr><th scope=col>&lt;fct&gt;</th><th scope=col>&lt;dbl&gt;</th><th scope=col>&lt;dbl&gt;</th><th scope=col>&lt;dbl&gt;</th></tr>\n",
       "</thead>\n",
       "<tbody>\n",
       "\t<tr><td>0</td><td> 1.964002</td><td>0.4237792</td><td>0.5</td></tr>\n",
       "\t<tr><td>1</td><td>41.951181</td><td>0.8026230</td><td>0.5</td></tr>\n",
       "</tbody>\n",
       "</table>\n"
      ],
      "text/latex": [
       "A tibble: 2 × 4\n",
       "\\begin{tabular}{llll}\n",
       " Risk & mean\\_inherent\\_risk & mean\\_control\\_risk & mean\\_detection\\_risk\\\\\n",
       " <fct> & <dbl> & <dbl> & <dbl>\\\\\n",
       "\\hline\n",
       "\t 0 &  1.964002 & 0.4237792 & 0.5\\\\\n",
       "\t 1 & 41.951181 & 0.8026230 & 0.5\\\\\n",
       "\\end{tabular}\n"
      ],
      "text/markdown": [
       "\n",
       "A tibble: 2 × 4\n",
       "\n",
       "| Risk &lt;fct&gt; | mean_inherent_risk &lt;dbl&gt; | mean_control_risk &lt;dbl&gt; | mean_detection_risk &lt;dbl&gt; |\n",
       "|---|---|---|---|\n",
       "| 0 |  1.964002 | 0.4237792 | 0.5 |\n",
       "| 1 | 41.951181 | 0.8026230 | 0.5 |\n",
       "\n"
      ],
      "text/plain": [
       "  Risk mean_inherent_risk mean_control_risk mean_detection_risk\n",
       "1 0     1.964002          0.4237792         0.5                \n",
       "2 1    41.951181          0.8026230         0.5                "
      ]
     },
     "metadata": {},
     "output_type": "display_data"
    }
   ],
   "source": [
    "# Average risk\n",
    "mean_risk <- select(audit_mutate, Inherent_Risk:Risk) %>%\n",
    "            group_by(Risk) %>%\n",
    "            summarize(mean_inherent_risk = mean(Inherent_Risk), \n",
    "                   mean_control_risk = mean(CONTROL_RISK), \n",
    "                   mean_detection_risk = mean(Detection_Risk))\n",
    "\n",
    "mean_risk"
   ]
  },
  {
   "cell_type": "markdown",
   "metadata": {},
   "source": [
    "Table 2."
   ]
  },
  {
   "cell_type": "markdown",
   "metadata": {},
   "source": [
    "There is a large difference in inherent risk between fraud and non-fraud, we want to further investigate which risk factor in inherent risk more likely leads to fraud. In inherent risk, we choose money_value as a predictor  to evaluate if a business has higher amount of money involved in mistatement leads to fraud."
   ]
  },
  {
   "cell_type": "markdown",
   "metadata": {},
   "source": [
    "We will be using the Risk Class column for our Class variable and the Money Value and Total Discrepancy as our predictors. \n",
    "\n",
    "Money value is a good predictor as it shows the amount of money involved in misstatements from the past for a particular business which is relevent to the level of risk of that business comitting fraud again.\n",
    "\n",
    "Total discprepancy reflects the amount of misstatements in the audit report, which indicates the reliability of the financial statements of a business. A business with less reliable financial records tends to be fraudulent. "
   ]
  },
  {
   "cell_type": "markdown",
   "metadata": {},
   "source": [
    "## Create Test and Training Set"
   ]
  },
  {
   "cell_type": "markdown",
   "metadata": {},
   "source": [
    "We use the `initial_split` to create training and testing datasets.\n",
    "The training dataset will be used to build our classification model and the testing dataset will be used for prediction."
   ]
  },
  {
   "cell_type": "code",
   "execution_count": 9,
   "metadata": {},
   "outputs": [
    {
     "data": {
      "text/html": [
       "<table>\n",
       "<caption>A tibble: 583 × 4</caption>\n",
       "<thead>\n",
       "\t<tr><th scope=col>TOTAL</th><th scope=col>Money_Value</th><th scope=col>Audit_Risk</th><th scope=col>Risk</th></tr>\n",
       "\t<tr><th scope=col>&lt;dbl&gt;</th><th scope=col>&lt;dbl&gt;</th><th scope=col>&lt;dbl&gt;</th><th scope=col>&lt;fct&gt;</th></tr>\n",
       "</thead>\n",
       "<tbody>\n",
       "\t<tr><td> 4.83</td><td> 0.94</td><td>0.5108</td><td>0</td></tr>\n",
       "\t<tr><td> 0.74</td><td> 0.00</td><td>0.3096</td><td>0</td></tr>\n",
       "\t<tr><td>10.80</td><td>11.75</td><td>3.5060</td><td>1</td></tr>\n",
       "\t<tr><td>⋮</td><td>⋮</td><td>⋮</td><td>⋮</td></tr>\n",
       "\t<tr><td>0.84</td><td>0.00</td><td>0.3136</td><td>0</td></tr>\n",
       "\t<tr><td>0.20</td><td>0.00</td><td>0.2880</td><td>0</td></tr>\n",
       "\t<tr><td>0.00</td><td>0.32</td><td>0.2928</td><td>0</td></tr>\n",
       "</tbody>\n",
       "</table>\n"
      ],
      "text/latex": [
       "A tibble: 583 × 4\n",
       "\\begin{tabular}{llll}\n",
       " TOTAL & Money\\_Value & Audit\\_Risk & Risk\\\\\n",
       " <dbl> & <dbl> & <dbl> & <fct>\\\\\n",
       "\\hline\n",
       "\t  4.83 &  0.94 & 0.5108 & 0\\\\\n",
       "\t  0.74 &  0.00 & 0.3096 & 0\\\\\n",
       "\t 10.80 & 11.75 & 3.5060 & 1\\\\\n",
       "\t ⋮ & ⋮ & ⋮ & ⋮\\\\\n",
       "\t 0.84 & 0.00 & 0.3136 & 0\\\\\n",
       "\t 0.20 & 0.00 & 0.2880 & 0\\\\\n",
       "\t 0.00 & 0.32 & 0.2928 & 0\\\\\n",
       "\\end{tabular}\n"
      ],
      "text/markdown": [
       "\n",
       "A tibble: 583 × 4\n",
       "\n",
       "| TOTAL &lt;dbl&gt; | Money_Value &lt;dbl&gt; | Audit_Risk &lt;dbl&gt; | Risk &lt;fct&gt; |\n",
       "|---|---|---|---|\n",
       "|  4.83 |  0.94 | 0.5108 | 0 |\n",
       "|  0.74 |  0.00 | 0.3096 | 0 |\n",
       "| 10.80 | 11.75 | 3.5060 | 1 |\n",
       "| ⋮ | ⋮ | ⋮ | ⋮ |\n",
       "| 0.84 | 0.00 | 0.3136 | 0 |\n",
       "| 0.20 | 0.00 | 0.2880 | 0 |\n",
       "| 0.00 | 0.32 | 0.2928 | 0 |\n",
       "\n"
      ],
      "text/plain": [
       "    TOTAL Money_Value Audit_Risk Risk\n",
       "1    4.83  0.94       0.5108     0   \n",
       "2    0.74  0.00       0.3096     0   \n",
       "3   10.80 11.75       3.5060     1   \n",
       "⋮   ⋮     ⋮           ⋮          ⋮   \n",
       "581 0.84  0.00        0.3136     0   \n",
       "582 0.20  0.00        0.2880     0   \n",
       "583 0.00  0.32        0.2928     0   "
      ]
     },
     "metadata": {},
     "output_type": "display_data"
    }
   ],
   "source": [
    "# Select relevant columns  \n",
    "audit_data <- select(audit_mutate, TOTAL, Money_Value, Audit_Risk, Risk)\n",
    "\n",
    "#Set seed for Randomness\n",
    "set.seed(1)\n",
    "audit_split <- initial_split(audit_data, prop = 0.75, strata = Risk)\n",
    "audit_train <- training(audit_split)\n",
    "audit_test <- testing(audit_split) \n",
    "\n",
    "audit_train"
   ]
  },
  {
   "cell_type": "markdown",
   "metadata": {},
   "source": [
    "Table 3."
   ]
  },
  {
   "cell_type": "markdown",
   "metadata": {},
   "source": [
    "## Exploratory Data Analysis\n",
    "\n",
    "In order to find the percent of fraudulent and non-fraudulent firms in the training data, we group the training data by Risk class, use `summarize` and `mutate` to find the percentage and create a table.  \n",
    "\n",
    "We visualize the distribution of fraudulent and non-fraudulent firms using `ggplot` to create scatter plot and color them by Risk class. "
   ]
  },
  {
   "cell_type": "code",
   "execution_count": 19,
   "metadata": {},
   "outputs": [
    {
     "name": "stderr",
     "output_type": "stream",
     "text": [
      "`summarise()` ungrouping output (override with `.groups` argument)\n",
      "\n"
     ]
    },
    {
     "data": {
      "text/html": [
       "<table>\n",
       "<caption>A tibble: 2 × 3</caption>\n",
       "<thead>\n",
       "\t<tr><th scope=col>Risk</th><th scope=col>n</th><th scope=col>percent</th></tr>\n",
       "\t<tr><th scope=col>&lt;fct&gt;</th><th scope=col>&lt;int&gt;</th><th scope=col>&lt;dbl&gt;</th></tr>\n",
       "</thead>\n",
       "<tbody>\n",
       "\t<tr><td>0</td><td>354</td><td>60.72041</td></tr>\n",
       "\t<tr><td>1</td><td>229</td><td>39.27959</td></tr>\n",
       "</tbody>\n",
       "</table>\n"
      ],
      "text/latex": [
       "A tibble: 2 × 3\n",
       "\\begin{tabular}{lll}\n",
       " Risk & n & percent\\\\\n",
       " <fct> & <int> & <dbl>\\\\\n",
       "\\hline\n",
       "\t 0 & 354 & 60.72041\\\\\n",
       "\t 1 & 229 & 39.27959\\\\\n",
       "\\end{tabular}\n"
      ],
      "text/markdown": [
       "\n",
       "A tibble: 2 × 3\n",
       "\n",
       "| Risk &lt;fct&gt; | n &lt;int&gt; | percent &lt;dbl&gt; |\n",
       "|---|---|---|\n",
       "| 0 | 354 | 60.72041 |\n",
       "| 1 | 229 | 39.27959 |\n",
       "\n"
      ],
      "text/plain": [
       "  Risk n   percent \n",
       "1 0    354 60.72041\n",
       "2 1    229 39.27959"
      ]
     },
     "metadata": {},
     "output_type": "display_data"
    }
   ],
   "source": [
    "# Table showing the percent of fraudulent and non-fraudulent firms in the training data                     \n",
    "audit_table <- audit_train %>%\n",
    "                      group_by(Risk) %>%\n",
    "                      summarize(n = n()) %>%\n",
    "                      mutate(percent = 100*n/nrow(audit_train))\n",
    "audit_table"
   ]
  },
  {
   "cell_type": "markdown",
   "metadata": {},
   "source": [
    "Table 4."
   ]
  },
  {
   "cell_type": "code",
   "execution_count": 20,
   "metadata": {},
   "outputs": [
    {
     "name": "stderr",
     "output_type": "stream",
     "text": [
      "Warning message:\n",
      "“Removed 89 rows containing missing values (geom_point).”\n"
     ]
    },
    {
     "data": {
      "image/png": "[encoded data removed]",
      "text/plain": [
       "plot without title"
      ]
     },
     "metadata": {
      "image/png": {
       "height": 480,
       "width": 600
      }
     },
     "output_type": "display_data"
    }
   ],
   "source": [
    "# Create Visualization showing the distribution of fraudulent vs. non-fraudulent firms\n",
    "\n",
    "options(repr.plot.width = 10, repr.plot.height = 8)\n",
    "\n",
    "audit_plot <- audit_train %>%\n",
    "            ggplot(aes(x = TOTAL, y = Money_Value, color = Risk)) +\n",
    "            geom_point(alpha = 0.5) +\n",
    "            labs(x = \"Total Discrepancy\", y = \"Money Value\", color = \"Risk\") +\n",
    "            scale_color_manual(labels = c(\"Not Fraudulent(0)\", \"Fraudlent(1)\"), \n",
    "                               values = c(\"orange2\", \"steelblue2\")) + \n",
    "            ggtitle(\"Figure 1: Money Value vs. Total\") +\n",
    "            xlim(0, 75) +\n",
    "            ylim(0, 20) +\n",
    "            theme(text = element_text(size = 20))\n",
    "           \n",
    "audit_plot"
   ]
  },
  {
   "cell_type": "markdown",
   "metadata": {},
   "source": [
    "## Classification with KNN\n",
    "\n",
    "We use K-nearest neighbors to create a classification model to determine whether a firm is fraudulent or non-fradulent."
   ]
  },
  {
   "cell_type": "markdown",
   "metadata": {},
   "source": [
    "### Finding the best K value"
   ]
  },
  {
   "cell_type": "markdown",
   "metadata": {},
   "source": [
    "We create a recipe with our standardized training data and scaled predictors. \n",
    "Then we tune the k-nearest neighbors specification and perform the cross-validation with 5 folders. \n",
    "The recipe and model specification are added to `workflow` to fit the data and summarize the metrics. Finally we use `filter` to pull out the accuracy column. "
   ]
  },
  {
   "cell_type": "code",
   "execution_count": 11,
   "metadata": {},
   "outputs": [
    {
     "name": "stderr",
     "output_type": "stream",
     "text": [
      "\u001b[31mx\u001b[39m \u001b[31mFold1: model 1/1 (predictions): Error: Problem with `mutate()` input `.row`.\n",
      "\u001b[...\u001b[39m\n",
      "\n"
     ]
    },
    {
     "data": {
      "text/html": [
       "<table>\n",
       "<caption>A tibble: 10 × 7</caption>\n",
       "<thead>\n",
       "\t<tr><th scope=col>neighbors</th><th scope=col>.metric</th><th scope=col>.estimator</th><th scope=col>mean</th><th scope=col>n</th><th scope=col>std_err</th><th scope=col>.config</th></tr>\n",
       "\t<tr><th scope=col>&lt;dbl&gt;</th><th scope=col>&lt;chr&gt;</th><th scope=col>&lt;chr&gt;</th><th scope=col>&lt;dbl&gt;</th><th scope=col>&lt;int&gt;</th><th scope=col>&lt;dbl&gt;</th><th scope=col>&lt;chr&gt;</th></tr>\n",
       "</thead>\n",
       "<tbody>\n",
       "\t<tr><td>1</td><td>accuracy</td><td>binary</td><td>0.8561687</td><td>4</td><td>0.009101028</td><td>Model01</td></tr>\n",
       "\t<tr><td>3</td><td>accuracy</td><td>binary</td><td>0.8905797</td><td>4</td><td>0.009385385</td><td>Model02</td></tr>\n",
       "\t<tr><td>5</td><td>accuracy</td><td>binary</td><td>0.9078224</td><td>4</td><td>0.013055608</td><td>Model03</td></tr>\n",
       "\t<tr><td>⋮</td><td>⋮</td><td>⋮</td><td>⋮</td><td>⋮</td><td>⋮</td><td>⋮</td></tr>\n",
       "\t<tr><td>15</td><td>accuracy</td><td>binary</td><td>0.9120959</td><td>4</td><td>0.01398736</td><td>Model08</td></tr>\n",
       "\t<tr><td>17</td><td>accuracy</td><td>binary</td><td>0.9120959</td><td>4</td><td>0.01398736</td><td>Model09</td></tr>\n",
       "\t<tr><td>19</td><td>accuracy</td><td>binary</td><td>0.9099591</td><td>4</td><td>0.01402657</td><td>Model10</td></tr>\n",
       "</tbody>\n",
       "</table>\n"
      ],
      "text/latex": [
       "A tibble: 10 × 7\n",
       "\\begin{tabular}{lllllll}\n",
       " neighbors & .metric & .estimator & mean & n & std\\_err & .config\\\\\n",
       " <dbl> & <chr> & <chr> & <dbl> & <int> & <dbl> & <chr>\\\\\n",
       "\\hline\n",
       "\t 1 & accuracy & binary & 0.8561687 & 4 & 0.009101028 & Model01\\\\\n",
       "\t 3 & accuracy & binary & 0.8905797 & 4 & 0.009385385 & Model02\\\\\n",
       "\t 5 & accuracy & binary & 0.9078224 & 4 & 0.013055608 & Model03\\\\\n",
       "\t ⋮ & ⋮ & ⋮ & ⋮ & ⋮ & ⋮ & ⋮\\\\\n",
       "\t 15 & accuracy & binary & 0.9120959 & 4 & 0.01398736 & Model08\\\\\n",
       "\t 17 & accuracy & binary & 0.9120959 & 4 & 0.01398736 & Model09\\\\\n",
       "\t 19 & accuracy & binary & 0.9099591 & 4 & 0.01402657 & Model10\\\\\n",
       "\\end{tabular}\n"
      ],
      "text/markdown": [
       "\n",
       "A tibble: 10 × 7\n",
       "\n",
       "| neighbors &lt;dbl&gt; | .metric &lt;chr&gt; | .estimator &lt;chr&gt; | mean &lt;dbl&gt; | n &lt;int&gt; | std_err &lt;dbl&gt; | .config &lt;chr&gt; |\n",
       "|---|---|---|---|---|---|---|\n",
       "| 1 | accuracy | binary | 0.8561687 | 4 | 0.009101028 | Model01 |\n",
       "| 3 | accuracy | binary | 0.8905797 | 4 | 0.009385385 | Model02 |\n",
       "| 5 | accuracy | binary | 0.9078224 | 4 | 0.013055608 | Model03 |\n",
       "| ⋮ | ⋮ | ⋮ | ⋮ | ⋮ | ⋮ | ⋮ |\n",
       "| 15 | accuracy | binary | 0.9120959 | 4 | 0.01398736 | Model08 |\n",
       "| 17 | accuracy | binary | 0.9120959 | 4 | 0.01398736 | Model09 |\n",
       "| 19 | accuracy | binary | 0.9099591 | 4 | 0.01402657 | Model10 |\n",
       "\n"
      ],
      "text/plain": [
       "   neighbors .metric  .estimator mean      n std_err     .config\n",
       "1  1         accuracy binary     0.8561687 4 0.009101028 Model01\n",
       "2  3         accuracy binary     0.8905797 4 0.009385385 Model02\n",
       "3  5         accuracy binary     0.9078224 4 0.013055608 Model03\n",
       "⋮  ⋮         ⋮        ⋮          ⋮         ⋮ ⋮           ⋮      \n",
       "8  15        accuracy binary     0.9120959 4 0.01398736  Model08\n",
       "9  17        accuracy binary     0.9120959 4 0.01398736  Model09\n",
       "10 19        accuracy binary     0.9099591 4 0.01402657  Model10"
      ]
     },
     "metadata": {},
     "output_type": "display_data"
    }
   ],
   "source": [
    "set.seed(1000)\n",
    "\n",
    "#Create standardization recipe\n",
    "audit_recipe <- recipe(Risk ~ Money_Value + TOTAL, data = audit_train) %>%\n",
    "                step_scale(all_predictors()) %>%\n",
    "                step_center(all_predictors())\n",
    "\n",
    "knn_spec <- nearest_neighbor(weight_func = \"rectangular\", neighbors = tune()) %>%\n",
    "            set_engine(\"kknn\") %>%\n",
    "            set_mode(\"classification\")\n",
    "\n",
    "#Cross-validation\n",
    "k_vals <- tibble(neighbors = seq(from = 1, to = 20, by = 2))\n",
    "\n",
    "knn_vfold <- vfold_cv(audit_train, v = 5, strata = Risk)\n",
    "\n",
    "#Fit KNN model\n",
    "knn_fit <- workflow() %>%\n",
    "        add_recipe(audit_recipe) %>%\n",
    "        add_model(knn_spec) %>%\n",
    "        tune_grid(resamples = knn_vfold, grid = k_vals) %>%\n",
    "        collect_metrics()\n",
    "\n",
    "#Filter out the accuracy column\n",
    "accuracies <- knn_fit %>%\n",
    "        filter(.metric == \"accuracy\")\n",
    "\n",
    "accuracies\n"
   ]
  },
  {
   "cell_type": "markdown",
   "metadata": {},
   "source": [
    "Table 5."
   ]
  },
  {
   "cell_type": "markdown",
   "metadata": {},
   "source": [
    "In order to find the best k value, we plot the number of neighbours and accuracy. "
   ]
  },
  {
   "cell_type": "code",
   "execution_count": 12,
   "metadata": {},
   "outputs": [
    {
     "data": {
      "image/png": "[encoded data removed]",
      "text/plain": [
       "plot without title"
      ]
     },
     "metadata": {
      "image/png": {
       "height": 480,
       "width": 600
      }
     },
     "output_type": "display_data"
    }
   ],
   "source": [
    "#Visualizing the k values\n",
    "accuracy_vs_k <- ggplot(accuracies, aes(x = neighbors, y = mean)) +\n",
    "geom_point() +\n",
    "geom_line() +\n",
    "labs(x = \"Neighbors\", y = \"Accuracy Estimate\") +\n",
    "ggtitle(\"Figure 2: K Values\") + \n",
    "scale_x_continuous(breaks = seq(0, 20, 2)) +\n",
    "theme(text = element_text(size = 20))\n",
    "\n",
    "accuracy_vs_k"
   ]
  },
  {
   "cell_type": "markdown",
   "metadata": {},
   "source": [
    "From the plot, we determine the best k value to be 7 as it provides the highest accuracy. "
   ]
  },
  {
   "cell_type": "markdown",
   "metadata": {},
   "source": [
    "## Build the Classification Model"
   ]
  },
  {
   "cell_type": "markdown",
   "metadata": {},
   "source": [
    "We use the determined k value to create a classification model with the training data."
   ]
  },
  {
   "cell_type": "code",
   "execution_count": 14,
   "metadata": {},
   "outputs": [],
   "source": [
    "#Create standardization recipe\n",
    "set.seed(1000)\n",
    "audit_recipe <- recipe(Risk ~ Money_Value, data = audit_train) %>%\n",
    "                step_scale(all_predictors()) %>%\n",
    "                step_center(all_predictors())\n",
    "\n",
    "#Choose k = 7\n",
    "audit_spec <- nearest_neighbor(weight_func = \"rectangular\", neighbors = 7) %>%\n",
    "            set_engine(\"kknn\") %>%\n",
    "            set_mode(\"classification\")\n",
    "\n",
    "#Fit KNN model\n",
    "audit_fit <- workflow() %>%\n",
    "        add_recipe(audit_recipe) %>%\n",
    "        add_model(audit_spec) %>%\n",
    "        fit(audit_train)"
   ]
  },
  {
   "cell_type": "markdown",
   "metadata": {},
   "source": [
    "## Prediction  with the Test Dataset"
   ]
  },
  {
   "cell_type": "markdown",
   "metadata": {},
   "source": [
    "We created the prediction with the testing dataset and calculated the accuracy with `metrics`."
   ]
  },
  {
   "cell_type": "code",
   "execution_count": 21,
   "metadata": {},
   "outputs": [
    {
     "data": {
      "text/html": [
       "<table>\n",
       "<caption>A tibble: 1 × 3</caption>\n",
       "<thead>\n",
       "\t<tr><th scope=col>.metric</th><th scope=col>.estimator</th><th scope=col>.estimate</th></tr>\n",
       "\t<tr><th scope=col>&lt;chr&gt;</th><th scope=col>&lt;chr&gt;</th><th scope=col>&lt;dbl&gt;</th></tr>\n",
       "</thead>\n",
       "<tbody>\n",
       "\t<tr><td>accuracy</td><td>binary</td><td>0.8704663</td></tr>\n",
       "</tbody>\n",
       "</table>\n"
      ],
      "text/latex": [
       "A tibble: 1 × 3\n",
       "\\begin{tabular}{lll}\n",
       " .metric & .estimator & .estimate\\\\\n",
       " <chr> & <chr> & <dbl>\\\\\n",
       "\\hline\n",
       "\t accuracy & binary & 0.8704663\\\\\n",
       "\\end{tabular}\n"
      ],
      "text/markdown": [
       "\n",
       "A tibble: 1 × 3\n",
       "\n",
       "| .metric &lt;chr&gt; | .estimator &lt;chr&gt; | .estimate &lt;dbl&gt; |\n",
       "|---|---|---|\n",
       "| accuracy | binary | 0.8704663 |\n",
       "\n"
      ],
      "text/plain": [
       "  .metric  .estimator .estimate\n",
       "1 accuracy binary     0.8704663"
      ]
     },
     "metadata": {},
     "output_type": "display_data"
    }
   ],
   "source": [
    "#Predict on the test dataset\n",
    "audit_predictions <- predict(audit_fit, audit_test) %>%\n",
    "        bind_cols(audit_test)\n",
    "    \n",
    "#Prediction accuracy\n",
    "audit_metrics <- audit_predictions %>%\n",
    "        metrics(truth = Risk, estimate = .pred_class) %>%\n",
    "        filter(.metric == \"accuracy\")\n",
    "audit_metrics"
   ]
  },
  {
   "cell_type": "markdown",
   "metadata": {},
   "source": [
    "Table 6."
   ]
  },
  {
   "cell_type": "markdown",
   "metadata": {},
   "source": [
    "Our model shows a 87% accuracy."
   ]
  },
  {
   "cell_type": "markdown",
   "metadata": {},
   "source": [
    "## Visualization of Prediction\n"
   ]
  },
  {
   "cell_type": "markdown",
   "metadata": {},
   "source": [
    "We created a dataset of prediction using our testing dataset and visualize it with `ggplot` scatter plot. "
   ]
  },
  {
   "cell_type": "code",
   "execution_count": 16,
   "metadata": {},
   "outputs": [
    {
     "data": {
      "text/html": [
       "<table>\n",
       "<caption>A tibble: 193 × 5</caption>\n",
       "<thead>\n",
       "\t<tr><th scope=col>.pred_class</th><th scope=col>TOTAL</th><th scope=col>Money_Value</th><th scope=col>Audit_Risk</th><th scope=col>Risk</th></tr>\n",
       "\t<tr><th scope=col>&lt;fct&gt;</th><th scope=col>&lt;dbl&gt;</th><th scope=col>&lt;dbl&gt;</th><th scope=col>&lt;dbl&gt;</th><th scope=col>&lt;fct&gt;</th></tr>\n",
       "</thead>\n",
       "<tbody>\n",
       "\t<tr><td>1</td><td> 6.68</td><td>  3.38</td><td> 1.7148</td><td>1</td></tr>\n",
       "\t<tr><td>1</td><td>28.10</td><td>205.19</td><td>56.7096</td><td>1</td></tr>\n",
       "\t<tr><td>1</td><td>63.70</td><td> 11.16</td><td> 9.2632</td><td>1</td></tr>\n",
       "\t<tr><td>⋮</td><td>⋮</td><td>⋮</td><td>⋮</td><td>⋮</td></tr>\n",
       "\t<tr><td>0</td><td>3.30</td><td>0</td><td>0.6760</td><td>0</td></tr>\n",
       "\t<tr><td>0</td><td>0.89</td><td>0</td><td>0.3156</td><td>0</td></tr>\n",
       "\t<tr><td>0</td><td>0.28</td><td>0</td><td>0.2912</td><td>0</td></tr>\n",
       "</tbody>\n",
       "</table>\n"
      ],
      "text/latex": [
       "A tibble: 193 × 5\n",
       "\\begin{tabular}{lllll}\n",
       " .pred\\_class & TOTAL & Money\\_Value & Audit\\_Risk & Risk\\\\\n",
       " <fct> & <dbl> & <dbl> & <dbl> & <fct>\\\\\n",
       "\\hline\n",
       "\t 1 &  6.68 &   3.38 &  1.7148 & 1\\\\\n",
       "\t 1 & 28.10 & 205.19 & 56.7096 & 1\\\\\n",
       "\t 1 & 63.70 &  11.16 &  9.2632 & 1\\\\\n",
       "\t ⋮ & ⋮ & ⋮ & ⋮ & ⋮\\\\\n",
       "\t 0 & 3.30 & 0 & 0.6760 & 0\\\\\n",
       "\t 0 & 0.89 & 0 & 0.3156 & 0\\\\\n",
       "\t 0 & 0.28 & 0 & 0.2912 & 0\\\\\n",
       "\\end{tabular}\n"
      ],
      "text/markdown": [
       "\n",
       "A tibble: 193 × 5\n",
       "\n",
       "| .pred_class &lt;fct&gt; | TOTAL &lt;dbl&gt; | Money_Value &lt;dbl&gt; | Audit_Risk &lt;dbl&gt; | Risk &lt;fct&gt; |\n",
       "|---|---|---|---|---|\n",
       "| 1 |  6.68 |   3.38 |  1.7148 | 1 |\n",
       "| 1 | 28.10 | 205.19 | 56.7096 | 1 |\n",
       "| 1 | 63.70 |  11.16 |  9.2632 | 1 |\n",
       "| ⋮ | ⋮ | ⋮ | ⋮ | ⋮ |\n",
       "| 0 | 3.30 | 0 | 0.6760 | 0 |\n",
       "| 0 | 0.89 | 0 | 0.3156 | 0 |\n",
       "| 0 | 0.28 | 0 | 0.2912 | 0 |\n",
       "\n"
      ],
      "text/plain": [
       "    .pred_class TOTAL Money_Value Audit_Risk Risk\n",
       "1   1            6.68   3.38       1.7148    1   \n",
       "2   1           28.10 205.19      56.7096    1   \n",
       "3   1           63.70  11.16       9.2632    1   \n",
       "⋮   ⋮           ⋮     ⋮           ⋮          ⋮   \n",
       "191 0           3.30  0           0.6760     0   \n",
       "192 0           0.89  0           0.3156     0   \n",
       "193 0           0.28  0           0.2912     0   "
      ]
     },
     "metadata": {},
     "output_type": "display_data"
    }
   ],
   "source": [
    "audit_predictions <- predict(audit_fit, audit_test) %>%\n",
    "        bind_cols(audit_test)\n",
    "audit_predictions"
   ]
  },
  {
   "cell_type": "markdown",
   "metadata": {},
   "source": [
    "Table 7."
   ]
  },
  {
   "cell_type": "code",
   "execution_count": 56,
   "metadata": {},
   "outputs": [
    {
     "name": "stderr",
     "output_type": "stream",
     "text": [
      "Warning message:\n",
      "“Removed 29 rows containing missing values (geom_point).”\n"
     ]
    },
    {
     "data": {
      "image/png": "[encoded data removed]",
      "text/plain": [
       "plot without title"
      ]
     },
     "metadata": {
      "image/png": {
       "height": 480,
       "width": 600
      }
     },
     "output_type": "display_data"
    }
   ],
   "source": [
    "options(repr.plot.width = 10, repr.plot.height = 8)\n",
    "audit_result_plot <- ggplot(audit_predictions, aes(x = TOTAL, y = Money_Value, color=.pred_class)) +\n",
    "            geom_point(alpha = 0.4) +\n",
    "            xlab(\"Total Discrepancy\") +\n",
    "            ylab(\"Money Value\") + \n",
    "            labs(color = \"Risk\") +\n",
    "            xlim(0, 70) +\n",
    "            ylim(0, 20) +\n",
    "            ggtitle(\"Figure 3: Classification Result of Money Value vs. Total Discrepancy\") +\n",
    "            theme(text = element_text(size = 15))\n",
    "audit_result_plot"
   ]
  },
  {
   "cell_type": "markdown",
   "metadata": {},
   "source": [
    "From the plot, we found non-fradulent firms tend to have lower total discrepancy and low money value. "
   ]
  },
  {
   "cell_type": "markdown",
   "metadata": {},
   "source": [
    "We test our model with a value from the visualization to see if the model classifies the new observation accurately."
   ]
  },
  {
   "cell_type": "code",
   "execution_count": 23,
   "metadata": {},
   "outputs": [
    {
     "data": {
      "text/html": [
       "<table>\n",
       "<caption>A tibble: 1 × 1</caption>\n",
       "<thead>\n",
       "\t<tr><th scope=col>.pred_class</th></tr>\n",
       "\t<tr><th scope=col>&lt;fct&gt;</th></tr>\n",
       "</thead>\n",
       "<tbody>\n",
       "\t<tr><td>1</td></tr>\n",
       "</tbody>\n",
       "</table>\n"
      ],
      "text/latex": [
       "A tibble: 1 × 1\n",
       "\\begin{tabular}{l}\n",
       " .pred\\_class\\\\\n",
       " <fct>\\\\\n",
       "\\hline\n",
       "\t 1\\\\\n",
       "\\end{tabular}\n"
      ],
      "text/markdown": [
       "\n",
       "A tibble: 1 × 1\n",
       "\n",
       "| .pred_class &lt;fct&gt; |\n",
       "|---|\n",
       "| 1 |\n",
       "\n"
      ],
      "text/plain": [
       "  .pred_class\n",
       "1 1          "
      ]
     },
     "metadata": {},
     "output_type": "display_data"
    }
   ],
   "source": [
    "# Prediction for new observation\n",
    "new_obs <- tibble(Money_Value = 10, TOTAL = 10)\n",
    "class_prediction <- predict(audit_fit, new_obs)\n",
    "\n",
    "class_prediction"
   ]
  },
  {
   "cell_type": "markdown",
   "metadata": {},
   "source": [
    "Table 8."
   ]
  },
  {
   "cell_type": "markdown",
   "metadata": {},
   "source": [
    "## Discussion\n",
    "\n",
    "### Summary\n",
    "We found that a business with low money value involved in mistatement and low total discrepancy tends to be less fraudulent according to our classification model.\n",
    "\n",
    "Our model has a accuracy of 87% with two risk factors, which proves that our predictors have large influence on the audit risk of a business. \n",
    "\n",
    "Most of the non-fraudulent firms have a money value between 0 to 2.5 and a total discrepancy between 0 to 12.\n",
    "\n",
    "\n",
    "This is what we expected to find as a business with low money value involved in mistatement and low total discrepancy has lower risk of being fraudulent. \n",
    "\n",
    "This can have a impact on the efficiency of auditors in locating and determining businesses that are likely to commit fraud. "
   ]
  },
  {
   "cell_type": "markdown",
   "metadata": {},
   "source": [
    "### Further questions to ask:\n",
    "This information could then lead to possible questions about particular districts or sectors with very high likeliness of fraud in order to focus in on those areas. \n",
    "\n",
    "- Average risk of each location.\n",
    "- Determine which location has the highest risk of fraud.\n",
    "- Which factors contribute the most to the risk of fraud?"
   ]
  },
  {
   "cell_type": "code",
   "execution_count": null,
   "metadata": {},
   "outputs": [],
   "source": []
  }
 ],
 "metadata": {
  "kernelspec": {
   "display_name": "R",
   "language": "R",
   "name": "ir"
  },
  "language_info": {
   "codemirror_mode": "r",
   "file_extension": ".r",
   "mimetype": "text/x-r-source",
   "name": "R",
   "pygments_lexer": "r",
   "version": "4.0.0"
  }
 },
 "nbformat": 4,
 "nbformat_minor": 4
}
